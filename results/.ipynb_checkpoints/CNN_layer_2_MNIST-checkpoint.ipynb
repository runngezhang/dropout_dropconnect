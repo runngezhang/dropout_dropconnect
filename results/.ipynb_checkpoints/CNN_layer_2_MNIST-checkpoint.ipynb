{
 "cells": [
  {
   "cell_type": "code",
   "execution_count": 1,
   "metadata": {
    "collapsed": false
   },
   "outputs": [
    {
     "name": "stderr",
     "output_type": "stream",
     "text": [
      "Using gpu device 0: GRID K520\n"
     ]
    }
   ],
   "source": [
    "from convo_2_layers import *"
   ]
  },
  {
   "cell_type": "code",
   "execution_count": 2,
   "metadata": {
    "collapsed": false
   },
   "outputs": [
    {
     "name": "stdout",
     "output_type": "stream",
     "text": [
      "crop : False rotate : False\n",
      "train_set_x shape : (1428, 784)\n",
      "test_set_x shape : (10000, 784)\n",
      "valid_set_x shape : (10000, 784)\n",
      "n_train_batches : 71\n",
      "n_test_batches : 500\n",
      "n_valid_batches : 500\n",
      "... building the model\n",
      "layer 0 end :  [13, 13]  nkerns : 32\n",
      "layer 1 end :  [12, 12]  nkerns : 64\n",
      "layer 2 begin :  9216\n",
      "weighted_masks_shape  [  20 9216  150]\n",
      "layer 2 end :  150\n",
      "Found.\n",
      "Model build.\n",
      "... training\n",
      "momentum:  0.0\n",
      "learning rate:  0.1\n",
      "epoch 1, minibatch 71/71, validation error 87.230000 %\n",
      "     epoch 1, minibatch 71/71, test error of best model 87.830000 %\n",
      "momentum:  0.019999999553\n",
      "learning rate:  0.0985\n",
      "epoch 2, minibatch 71/71, validation error 58.410000 %\n",
      "     epoch 2, minibatch 71/71, test error of best model 57.750000 %\n",
      "momentum:  0.0395999997854\n",
      "learning rate:  0.0970225\n",
      "epoch 3, minibatch 71/71, validation error 38.010000 %\n",
      "     epoch 3, minibatch 71/71, test error of best model 39.030000 %\n",
      "momentum:  0.0588079988956\n",
      "learning rate:  0.0955671625\n",
      "epoch 4, minibatch 71/71, validation error 25.350000 %\n",
      "     epoch 4, minibatch 71/71, test error of best model 26.190000 %\n",
      "momentum:  0.0776318386197\n",
      "learning rate:  0.0941336550625\n",
      "epoch 5, minibatch 71/71, validation error 17.320000 %\n",
      "     epoch 5, minibatch 71/71, test error of best model 17.770000 %\n",
      "momentum:  0.0960792005062\n",
      "learning rate:  0.0927216502366\n",
      "epoch 6, minibatch 71/71, validation error 14.140000 %\n",
      "     epoch 6, minibatch 71/71, test error of best model 14.540000 %\n",
      "momentum:  0.114157617092\n",
      "learning rate:  0.091330825483\n",
      "epoch 7, minibatch 71/71, validation error 12.580000 %\n",
      "     epoch 7, minibatch 71/71, test error of best model 13.480000 %\n",
      "momentum:  0.131874471903\n",
      "learning rate:  0.0899608631008\n",
      "epoch 8, minibatch 71/71, validation error 12.740000 %\n",
      "momentum:  0.1492369771\n",
      "learning rate:  0.0886114501543\n",
      "epoch 9, minibatch 71/71, validation error 12.990000 %\n",
      "momentum:  0.166252240539\n",
      "learning rate:  0.0872822784019\n",
      "epoch 10, minibatch 71/71, validation error 11.630000 %\n",
      "     epoch 10, minibatch 71/71, test error of best model 11.260000 %\n",
      "momentum:  0.182927191257\n",
      "learning rate:  0.0859730442259\n",
      "epoch 11, minibatch 71/71, validation error 11.310000 %\n",
      "     epoch 11, minibatch 71/71, test error of best model 11.520000 %\n",
      "momentum:  0.199268653989\n",
      "learning rate:  0.0846834485625\n",
      "epoch 12, minibatch 71/71, validation error 11.060000 %\n",
      "     epoch 12, minibatch 71/71, test error of best model 11.780000 %\n",
      "momentum:  0.215283274651\n",
      "learning rate:  0.0834131968341\n",
      "epoch 13, minibatch 71/71, validation error 16.140000 %\n",
      "momentum:  0.230977609754\n",
      "learning rate:  0.0821619988816\n",
      "epoch 14, minibatch 71/71, validation error 10.190000 %\n",
      "     epoch 14, minibatch 71/71, test error of best model 11.290000 %\n",
      "momentum:  0.246358051896\n",
      "learning rate:  0.0809295688984\n",
      "epoch 15, minibatch 71/71, validation error 8.240000 %\n",
      "     epoch 15, minibatch 71/71, test error of best model 8.700000 %\n",
      "momentum:  0.261430889368\n",
      "learning rate:  0.0797156253649\n",
      "epoch 16, minibatch 71/71, validation error 8.490000 %\n",
      "momentum:  0.276202261448\n",
      "learning rate:  0.0785198909844\n",
      "epoch 17, minibatch 71/71, validation error 9.260000 %\n",
      "momentum:  0.290678203106\n",
      "learning rate:  0.0773420926196\n",
      "epoch 18, minibatch 71/71, validation error 7.530000 %\n",
      "     epoch 18, minibatch 71/71, test error of best model 8.480000 %\n",
      "momentum:  0.304864645004\n",
      "learning rate:  0.0761819612303\n",
      "epoch 19, minibatch 71/71, validation error 8.160000 %\n",
      "momentum:  0.318767338991\n",
      "learning rate:  0.0750392318119\n",
      "epoch 20, minibatch 71/71, validation error 7.480000 %\n",
      "     epoch 20, minibatch 71/71, test error of best model 8.060000 %\n",
      "Optimization complete. Best validation score of 7.480000 % obtained at iteration 1420, with test performance 8.060000 %\n"
     ]
    }
   ],
   "source": [
    "#DROPCONNECT NO CROP NO ROTATE LINEAR RECTIFIER\n",
    "test_lenet(learning_rate= 0.1, n_epochs=20, nkerns=[32,64,150], \n",
    "           filter_shapes=[[3,3],[2,2]], pool_sizes=[[2,2],[1,1]],\n",
    "           ignore_border=[False,False],batch_size = 20, verbose = True,\n",
    "           smaller_set= True, activation = linear_rectifier, p= 0.5,\n",
    "           dataset= 'MNIST',\n",
    "           hidden_layer_type = DropconnectHiddenLayer,\n",
    "           momentum = 0,\n",
    "           crop = False,rotate = False)"
   ]
  },
  {
   "cell_type": "code",
   "execution_count": 3,
   "metadata": {
    "collapsed": false
   },
   "outputs": [
    {
     "name": "stdout",
     "output_type": "stream",
     "text": [
      "crop : True rotate : False\n",
      "train_set_x shape : (1428, 576)\n",
      "test_set_x shape : (10000, 576)\n",
      "valid_set_x shape : (10000, 576)\n",
      "n_train_batches : 71\n",
      "n_test_batches : 500\n",
      "n_valid_batches : 500\n",
      "... building the model\n",
      "layer 0 end :  [11, 11]  nkerns : 32\n",
      "layer 1 end :  [10, 10]  nkerns : 64\n",
      "layer 2 begin :  6400\n",
      "weighted_masks_shape  [  20 6400  150]\n",
      "layer 2 end :  150\n",
      "Found.\n",
      "Model build.\n",
      "... training\n",
      "momentum:  0.0\n",
      "learning rate:  0.1\n",
      "epoch 1, minibatch 71/71, validation error 89.100000 %\n",
      "     epoch 1, minibatch 71/71, test error of best model 89.720000 %\n",
      "momentum:  0.019999999553\n",
      "learning rate:  0.0985\n",
      "epoch 2, minibatch 71/71, validation error 67.570000 %\n",
      "     epoch 2, minibatch 71/71, test error of best model 67.770000 %\n",
      "momentum:  0.0395999997854\n",
      "learning rate:  0.0970225\n",
      "epoch 3, minibatch 71/71, validation error 58.340000 %\n",
      "     epoch 3, minibatch 71/71, test error of best model 58.440000 %\n",
      "momentum:  0.0588079988956\n",
      "learning rate:  0.0955671625\n",
      "epoch 4, minibatch 71/71, validation error 50.160000 %\n",
      "     epoch 4, minibatch 71/71, test error of best model 51.080000 %\n",
      "momentum:  0.0776318386197\n",
      "learning rate:  0.0941336550625\n",
      "epoch 5, minibatch 71/71, validation error 37.800000 %\n",
      "     epoch 5, minibatch 71/71, test error of best model 38.870000 %\n",
      "momentum:  0.0960792005062\n",
      "learning rate:  0.0927216502366\n",
      "epoch 6, minibatch 71/71, validation error 36.980000 %\n",
      "     epoch 6, minibatch 71/71, test error of best model 37.230000 %\n",
      "momentum:  0.114157617092\n",
      "learning rate:  0.091330825483\n",
      "epoch 7, minibatch 71/71, validation error 38.060000 %\n",
      "momentum:  0.131874471903\n",
      "learning rate:  0.0899608631008\n",
      "epoch 8, minibatch 71/71, validation error 24.540000 %\n",
      "     epoch 8, minibatch 71/71, test error of best model 25.500000 %\n",
      "momentum:  0.1492369771\n",
      "learning rate:  0.0886114501543\n",
      "epoch 9, minibatch 71/71, validation error 24.630000 %\n",
      "momentum:  0.166252240539\n",
      "learning rate:  0.0872822784019\n",
      "epoch 10, minibatch 71/71, validation error 21.700000 %\n",
      "     epoch 10, minibatch 71/71, test error of best model 21.560000 %\n",
      "momentum:  0.182927191257\n",
      "learning rate:  0.0859730442259\n",
      "epoch 11, minibatch 71/71, validation error 25.070000 %\n",
      "momentum:  0.199268653989\n",
      "learning rate:  0.0846834485625\n",
      "epoch 12, minibatch 71/71, validation error 20.190000 %\n",
      "     epoch 12, minibatch 71/71, test error of best model 20.120000 %\n",
      "momentum:  0.215283274651\n",
      "learning rate:  0.0834131968341\n",
      "epoch 13, minibatch 71/71, validation error 24.830000 %\n",
      "momentum:  0.230977609754\n",
      "learning rate:  0.0821619988816\n",
      "epoch 14, minibatch 71/71, validation error 17.450000 %\n",
      "     epoch 14, minibatch 71/71, test error of best model 18.380000 %\n",
      "momentum:  0.246358051896\n",
      "learning rate:  0.0809295688984\n",
      "epoch 15, minibatch 71/71, validation error 16.590000 %\n",
      "     epoch 15, minibatch 71/71, test error of best model 16.530000 %\n",
      "momentum:  0.261430889368\n",
      "learning rate:  0.0797156253649\n",
      "epoch 16, minibatch 71/71, validation error 14.540000 %\n",
      "     epoch 16, minibatch 71/71, test error of best model 14.220000 %\n",
      "momentum:  0.276202261448\n",
      "learning rate:  0.0785198909844\n",
      "epoch 17, minibatch 71/71, validation error 20.890000 %\n",
      "momentum:  0.290678203106\n",
      "learning rate:  0.0773420926196\n",
      "epoch 18, minibatch 71/71, validation error 13.960000 %\n",
      "     epoch 18, minibatch 71/71, test error of best model 14.670000 %\n",
      "momentum:  0.304864645004\n",
      "learning rate:  0.0761819612303\n",
      "epoch 19, minibatch 71/71, validation error 12.370000 %\n",
      "     epoch 19, minibatch 71/71, test error of best model 13.010000 %\n",
      "momentum:  0.318767338991\n",
      "learning rate:  0.0750392318119\n",
      "epoch 20, minibatch 71/71, validation error 13.390000 %\n",
      "Optimization complete. Best validation score of 12.370000 % obtained at iteration 1349, with test performance 13.010000 %\n"
     ]
    }
   ],
   "source": [
    "#DROPCONNECT CROP LINEAR RECTIFIER\n",
    "test_lenet(learning_rate= 0.1, n_epochs=20, nkerns=[32,64,150], \n",
    "           filter_shapes=[[3,3],[2,2]], pool_sizes=[[2,2],[1,1]],\n",
    "           ignore_border=[False,False],batch_size = 20, verbose = True,\n",
    "           smaller_set= True, activation = linear_rectifier, p= 0.5,\n",
    "           dataset= 'MNIST',\n",
    "           hidden_layer_type = DropconnectHiddenLayer,\n",
    "           momentum = 0,\n",
    "           crop = True, rotate = False)"
   ]
  },
  {
   "cell_type": "code",
   "execution_count": null,
   "metadata": {
    "collapsed": false
   },
   "outputs": [],
   "source": []
  },
  {
   "cell_type": "code",
   "execution_count": null,
   "metadata": {
    "collapsed": false
   },
   "outputs": [],
   "source": []
  },
  {
   "cell_type": "code",
   "execution_count": null,
   "metadata": {
    "collapsed": true
   },
   "outputs": [],
   "source": []
  }
 ],
 "metadata": {
  "kernelspec": {
   "display_name": "Python 2",
   "language": "python",
   "name": "python2"
  },
  "language_info": {
   "codemirror_mode": {
    "name": "ipython",
    "version": 2
   },
   "file_extension": ".py",
   "mimetype": "text/x-python",
   "name": "python",
   "nbconvert_exporter": "python",
   "pygments_lexer": "ipython2",
   "version": "2.7.6"
  }
 },
 "nbformat": 4,
 "nbformat_minor": 0
}
