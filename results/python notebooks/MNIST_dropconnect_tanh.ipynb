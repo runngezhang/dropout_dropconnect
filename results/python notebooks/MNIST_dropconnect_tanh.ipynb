{
 "cells": [
  {
   "cell_type": "code",
   "execution_count": 1,
   "metadata": {
    "collapsed": false
   },
   "outputs": [],
   "source": [
    "from mlp_dropout_dropconnect import *\n"
   ]
  },
  {
   "cell_type": "code",
   "execution_count": null,
   "metadata": {
    "collapsed": false
   },
   "outputs": [
    {
     "name": "stdout",
     "output_type": "stream",
     "text": [
      "crop : False rotate : False\n",
      "train_set_x shape : (50000, 784)\n",
      "test_set_x shape : (10000, 784)\n",
      "valid_set_x shape : (10000, 784)\n",
      "n_train_batches : 2500\n",
      "n_test_batches : 500\n",
      "n_valid_batches : 500\n",
      "... building the model\n",
      "weighted_masks_shape  [ 20 784 500]\n",
      "weighted_masks_shape  [ 20 500 500]\n",
      "Model Build\n",
      "... training\n",
      "momentum:  0.5\n",
      "learning rate:  0.1\n",
      "epoch 1, minibatch 2500/2500, validation error 9.570000 %\n",
      "     epoch 1, minibatch 2500/2500, test error of best model 10.480000 %\n",
      "momentum:  0.51\n",
      "learning rate:  0.0985\n",
      "epoch 2, minibatch 2500/2500, validation error 9.220000 %\n",
      "     epoch 2, minibatch 2500/2500, test error of best model 10.050000 %\n",
      "momentum:  0.5198\n",
      "learning rate:  0.0970225\n",
      "epoch 3, minibatch 2500/2500, validation error 8.550000 %\n",
      "     epoch 3, minibatch 2500/2500, test error of best model 9.140000 %\n",
      "momentum:  0.529404\n",
      "learning rate:  0.0955671625\n",
      "epoch 4, minibatch 2500/2500, validation error 6.530000 %\n",
      "     epoch 4, minibatch 2500/2500, test error of best model 7.120000 %\n",
      "momentum:  0.53881592\n",
      "learning rate:  0.0941336550625\n",
      "epoch 5, minibatch 2500/2500, validation error 6.440000 %\n",
      "     epoch 5, minibatch 2500/2500, test error of best model 7.210000 %\n",
      "momentum:  0.5480396016\n",
      "learning rate:  0.0927216502366\n",
      "epoch 6, minibatch 2500/2500, validation error 5.380000 %\n",
      "     epoch 6, minibatch 2500/2500, test error of best model 6.140000 %\n",
      "momentum:  0.557078809568\n",
      "learning rate:  0.091330825483\n",
      "epoch 7, minibatch 2500/2500, validation error 5.120000 %\n",
      "     epoch 7, minibatch 2500/2500, test error of best model 5.820000 %\n",
      "momentum:  0.565937233377\n",
      "learning rate:  0.0899608631008\n",
      "epoch 8, minibatch 2500/2500, validation error 4.620000 %\n",
      "     epoch 8, minibatch 2500/2500, test error of best model 5.410000 %\n",
      "momentum:  0.574618488709\n",
      "learning rate:  0.0886114501543\n",
      "epoch 9, minibatch 2500/2500, validation error 4.120000 %\n",
      "     epoch 9, minibatch 2500/2500, test error of best model 4.740000 %\n",
      "momentum:  0.583126118935\n",
      "learning rate:  0.0872822784019\n",
      "epoch 10, minibatch 2500/2500, validation error 4.110000 %\n",
      "     epoch 10, minibatch 2500/2500, test error of best model 4.610000 %\n",
      "momentum:  0.591463596556\n",
      "learning rate:  0.0859730442259\n",
      "epoch 11, minibatch 2500/2500, validation error 3.970000 %\n",
      "     epoch 11, minibatch 2500/2500, test error of best model 4.290000 %\n",
      "momentum:  0.599634324625\n",
      "learning rate:  0.0846834485625\n",
      "epoch 12, minibatch 2500/2500, validation error 3.570000 %\n",
      "     epoch 12, minibatch 2500/2500, test error of best model 3.940000 %\n",
      "momentum:  0.607641638133\n",
      "learning rate:  0.0834131968341\n",
      "epoch 13, minibatch 2500/2500, validation error 3.580000 %\n",
      "momentum:  0.61548880537\n",
      "learning rate:  0.0821619988816\n",
      "epoch 14, minibatch 2500/2500, validation error 3.480000 %\n",
      "     epoch 14, minibatch 2500/2500, test error of best model 3.600000 %\n",
      "momentum:  0.623179029263\n",
      "learning rate:  0.0809295688984\n",
      "epoch 15, minibatch 2500/2500, validation error 3.280000 %\n",
      "     epoch 15, minibatch 2500/2500, test error of best model 3.670000 %\n",
      "momentum:  0.630715448677\n",
      "learning rate:  0.0797156253649\n",
      "epoch 16, minibatch 2500/2500, validation error 3.210000 %\n",
      "     epoch 16, minibatch 2500/2500, test error of best model 3.480000 %"
     ]
    }
   ],
   "source": [
    "#Dropconnect with tanh\n",
    "test_mlp(learning_rate = 0.1, momentum = 0.5, L1_reg= 0.00, L2_reg= 0.0001, n_epochs=20, batch_size=20, n_hidden=500, n_hiddenLayers=2, hidden_layer_type= DropconnectHiddenLayer,p = 0.5, dataset = 'MNIST', verbose = True, smaller_set = False,filename = 'mlp_dropconnect_mnist_tanh',activation = T.tanh)"
   ]
  },
  {
   "cell_type": "code",
   "execution_count": null,
   "metadata": {
    "collapsed": false
   },
   "outputs": [],
   "source": []
  },
  {
   "cell_type": "code",
   "execution_count": null,
   "metadata": {
    "collapsed": true
   },
   "outputs": [],
   "source": []
  }
 ],
 "metadata": {
  "kernelspec": {
   "display_name": "Python 2",
   "language": "python",
   "name": "python2"
  },
  "language_info": {
   "codemirror_mode": {
    "name": "ipython",
    "version": 2
   },
   "file_extension": ".py",
   "mimetype": "text/x-python",
   "name": "python",
   "nbconvert_exporter": "python",
   "pygments_lexer": "ipython2",
   "version": "2.7.6"
  }
 },
 "nbformat": 4,
 "nbformat_minor": 0
}
