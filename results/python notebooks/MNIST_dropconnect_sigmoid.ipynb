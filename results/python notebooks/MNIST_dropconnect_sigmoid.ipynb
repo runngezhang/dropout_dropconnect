{
 "cells": [
  {
   "cell_type": "code",
   "execution_count": 1,
   "metadata": {
    "collapsed": false
   },
   "outputs": [
    {
     "name": "stderr",
     "output_type": "stream",
     "text": [
      "Using gpu device 0: GRID K520\n"
     ]
    }
   ],
   "source": [
    "from mlp_dropout_dropconnect import *"
   ]
  },
  {
   "cell_type": "code",
   "execution_count": null,
   "metadata": {
    "collapsed": true
   },
   "outputs": [],
   "source": [
    "#Dropconnect MNIST sigmoid"
   ]
  },
  {
   "cell_type": "code",
   "execution_count": 2,
   "metadata": {
    "collapsed": false
   },
   "outputs": [
    {
     "name": "stdout",
     "output_type": "stream",
     "text": [
      "crop : False rotate : False\n",
      "train_set_x shape : (50000, 784)\n",
      "test_set_x shape : (10000, 784)\n",
      "valid_set_x shape : (10000, 784)\n",
      "n_train_batches : 2500\n",
      "n_test_batches : 500\n",
      "n_valid_batches : 500\n",
      "... building the model\n",
      "weighted_masks_shape  [ 20 784 500]\n",
      "weighted_masks_shape  [ 20 500 500]\n",
      "Model Build\n",
      "... training\n",
      "momentum:  0.5\n",
      "learning rate:  0.1\n",
      "epoch 1, minibatch 2500/2500, validation error 12.870000 %\n",
      "     epoch 1, minibatch 2500/2500, test error of best model 13.830000 %\n",
      "momentum:  0.509999990463\n",
      "learning rate:  0.0985\n",
      "epoch 2, minibatch 2500/2500, validation error 11.270000 %\n",
      "     epoch 2, minibatch 2500/2500, test error of best model 12.170000 %\n",
      "momentum:  0.519800007343\n",
      "learning rate:  0.0970225\n",
      "epoch 3, minibatch 2500/2500, validation error 10.230000 %\n",
      "     epoch 3, minibatch 2500/2500, test error of best model 10.660000 %\n",
      "momentum:  0.529403984547\n",
      "learning rate:  0.0955671625\n",
      "epoch 4, minibatch 2500/2500, validation error 9.360000 %\n",
      "     epoch 4, minibatch 2500/2500, test error of best model 9.960000 %\n",
      "momentum:  0.538815915585\n",
      "learning rate:  0.0941336550625\n",
      "epoch 5, minibatch 2500/2500, validation error 9.310000 %\n",
      "     epoch 5, minibatch 2500/2500, test error of best model 9.910000 %\n",
      "momentum:  0.548039615154\n",
      "learning rate:  0.0927216502366\n",
      "epoch 6, minibatch 2500/2500, validation error 8.800000 %\n",
      "     epoch 6, minibatch 2500/2500, test error of best model 9.590000 %\n",
      "momentum:  0.557078838348\n",
      "learning rate:  0.091330825483\n",
      "epoch 7, minibatch 2500/2500, validation error 8.670000 %\n",
      "     epoch 7, minibatch 2500/2500, test error of best model 9.410000 %\n",
      "momentum:  0.565937280655\n",
      "learning rate:  0.0899608631008\n",
      "epoch 8, minibatch 2500/2500, validation error 8.660000 %\n",
      "     epoch 8, minibatch 2500/2500, test error of best model 9.400000 %\n",
      "momentum:  0.574618518353\n",
      "learning rate:  0.0886114501543\n",
      "epoch 9, minibatch 2500/2500, validation error 8.580000 %\n",
      "     epoch 9, minibatch 2500/2500, test error of best model 9.390000 %\n",
      "momentum:  0.58312612772\n",
      "learning rate:  0.0872822784019\n",
      "epoch 10, minibatch 2500/2500, validation error 8.460000 %\n",
      "     epoch 10, minibatch 2500/2500, test error of best model 9.160000 %\n",
      "momentum:  0.591463625431\n",
      "learning rate:  0.0859730442259\n",
      "epoch 11, minibatch 2500/2500, validation error 8.360000 %\n",
      "     epoch 11, minibatch 2500/2500, test error of best model 9.120000 %\n",
      "momentum:  0.599634349346\n",
      "learning rate:  0.0846834485625\n",
      "epoch 12, minibatch 2500/2500, validation error 8.140000 %\n",
      "     epoch 12, minibatch 2500/2500, test error of best model 8.770000 %\n",
      "momentum:  0.607641637325\n",
      "learning rate:  0.0834131968341\n",
      "epoch 13, minibatch 2500/2500, validation error 7.960000 %\n",
      "     epoch 13, minibatch 2500/2500, test error of best model 8.810000 %\n",
      "momentum:  0.615488827229\n",
      "learning rate:  0.0821619988816\n",
      "epoch 14, minibatch 2500/2500, validation error 7.540000 %\n",
      "     epoch 14, minibatch 2500/2500, test error of best model 8.310000 %\n",
      "momentum:  0.623179078102\n",
      "learning rate:  0.0809295688984\n",
      "epoch 15, minibatch 2500/2500, validation error 7.710000 %\n",
      "momentum:  0.630715489388\n",
      "learning rate:  0.0797156253649\n",
      "epoch 16, minibatch 2500/2500, validation error 7.430000 %\n",
      "     epoch 16, minibatch 2500/2500, test error of best model 8.300000 %\n",
      "momentum:  0.638101160526\n",
      "learning rate:  0.0785198909844\n",
      "epoch 17, minibatch 2500/2500, validation error 7.520000 %\n",
      "momentum:  0.645339131355\n",
      "learning rate:  0.0773420926196\n",
      "epoch 18, minibatch 2500/2500, validation error 7.180000 %\n",
      "     epoch 18, minibatch 2500/2500, test error of best model 8.020000 %\n",
      "momentum:  0.652432322502\n",
      "learning rate:  0.0761819612303\n",
      "epoch 19, minibatch 2500/2500, validation error 7.520000 %\n",
      "momentum:  0.659383654594\n",
      "learning rate:  0.0750392318119\n",
      "epoch 20, minibatch 2500/2500, validation error 7.230000 %\n",
      "Optimization complete. Best validation score of 7.180000 % obtained at iteration 45000, with test performance 8.020000 %\n"
     ]
    }
   ],
   "source": [
    "test_mlp(learning_rate = 0.1, momentum = 0.5, L1_reg= 0.00, L2_reg= 0.0001, n_epochs=20, batch_size=20, \n",
    "         n_hidden=500, n_hiddenLayers=2,\n",
    "         hidden_layer_type= DropconnectHiddenLayer, p = 0.5, dataset = 'MNIST',\n",
    "         verbose = True, smaller_set = False, filename = 'model',\n",
    "         activation = T.nnet.sigmoid)"
   ]
  }
 ],
 "metadata": {
  "kernelspec": {
   "display_name": "Python 2",
   "language": "python",
   "name": "python2"
  },
  "language_info": {
   "codemirror_mode": {
    "name": "ipython",
    "version": 2
   },
   "file_extension": ".py",
   "mimetype": "text/x-python",
   "name": "python",
   "nbconvert_exporter": "python",
   "pygments_lexer": "ipython2",
   "version": "2.7.6"
  }
 },
 "nbformat": 4,
 "nbformat_minor": 0
}
