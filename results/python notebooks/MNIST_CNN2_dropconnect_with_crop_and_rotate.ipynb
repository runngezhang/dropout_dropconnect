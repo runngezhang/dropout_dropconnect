{
 "cells": [
  {
   "cell_type": "code",
   "execution_count": 1,
   "metadata": {
    "collapsed": false
   },
   "outputs": [
    {
     "name": "stderr",
     "output_type": "stream",
     "text": [
      "Using gpu device 0: GRID K520\n"
     ]
    }
   ],
   "source": [
    "from convo_2_layers import *"
   ]
  },
  {
   "cell_type": "code",
   "execution_count": null,
   "metadata": {
    "collapsed": false
   },
   "outputs": [
    {
     "name": "stdout",
     "output_type": "stream",
     "text": [
      "crop : True rotate : True\n",
      "train_set_x shape : (50000, 576)\n",
      "test_set_x shape : (10000, 576)\n",
      "valid_set_x shape : (10000, 576)\n",
      "n_train_batches : 2500\n",
      "n_test_batches : 500\n",
      "n_valid_batches : 500\n",
      "... building the model\n",
      "layer 0 end :  [11, 11]  nkerns : 32\n",
      "layer 1 end :  [10, 10]  nkerns : 64\n",
      "layer 2 begin :  6400\n",
      "weighted_masks_shape  [  20 6400  150]\n",
      "layer 2 end :  150\n",
      "Found.\n",
      "Model build.\n",
      "... training\n",
      "momentum:  0.0\n",
      "learning rate:  0.1\n",
      "epoch 1, minibatch 2500/2500, validation error 17.490000 %\n",
      "     epoch 1, minibatch 2500/2500, test error of best model 18.580000 %\n",
      "momentum:  0.019999999553\n",
      "learning rate:  0.0985\n",
      "epoch 2, minibatch 2500/2500, validation error 9.180000 %\n",
      "     epoch 2, minibatch 2500/2500, test error of best model 8.740000 %\n",
      "momentum:  0.0395999997854\n",
      "learning rate:  0.0970225\n",
      "epoch 3, minibatch 2500/2500, validation error 7.920000 %\n",
      "     epoch 3, minibatch 2500/2500, test error of best model 7.360000 %\n",
      "momentum:  0.0588079988956\n",
      "learning rate:  0.0955671625\n",
      "epoch 4, minibatch 2500/2500, validation error 7.820000 %\n",
      "     epoch 4, minibatch 2500/2500, test error of best model 7.430000 %\n",
      "momentum:  0.0776318386197\n",
      "learning rate:  0.0941336550625\n",
      "epoch 5, minibatch 2500/2500, validation error 6.510000 %\n",
      "     epoch 5, minibatch 2500/2500, test error of best model 6.360000 %\n",
      "momentum:  0.0960792005062\n",
      "learning rate:  0.0927216502366\n",
      "epoch 6, minibatch 2500/2500, validation error 6.920000 %\n",
      "momentum:  0.114157617092\n",
      "learning rate:  0.091330825483\n",
      "epoch 7, minibatch 2500/2500, validation error 6.750000 %\n",
      "momentum:  0.131874471903\n",
      "learning rate:  0.0899608631008\n",
      "epoch 8, minibatch 2500/2500, validation error 6.000000 %\n",
      "     epoch 8, minibatch 2500/2500, test error of best model 6.270000 %\n",
      "momentum:  0.1492369771\n",
      "learning rate:  0.0886114501543\n",
      "epoch 9, minibatch 2500/2500, validation error 6.190000 %\n",
      "momentum:  0.166252240539\n",
      "learning rate:  0.0872822784019\n",
      "epoch 10, minibatch 2500/2500, validation error 5.850000 %\n",
      "     epoch 10, minibatch 2500/2500, test error of best model 5.720000 %\n",
      "momentum:  0.182927191257\n",
      "learning rate:  0.0859730442259\n",
      "epoch 11, minibatch 2500/2500, validation error 6.050000 %\n",
      "momentum:  0.199268653989\n",
      "learning rate:  0.0846834485625\n",
      "epoch 12, minibatch 2500/2500, validation error 5.650000 %\n",
      "     epoch 12, minibatch 2500/2500, test error of best model 5.560000 %\n",
      "momentum:  0.215283274651\n",
      "learning rate:  0.0834131968341\n",
      "epoch 13, minibatch 2500/2500, validation error 6.180000 %"
     ]
    }
   ],
   "source": [
    "# CNN 2 with dropconnect and crop and rotate\n",
    "test_lenet(learning_rate= 0.1, n_epochs=20, nkerns=[32,64,150], filter_shapes=[[3,3],[2,2]], pool_sizes=[[2,2],[1,1]],ignore_border=[False,False],batch_size = 20, verbose = True,smaller_set= False, activation =linear_rectifier,p= 0.5,dataset= 'MNIST',hidden_layer_type = DropconnectHiddenLayer,momentum = 0,crop = True,rotate = True)\n"
   ]
  },
  {
   "cell_type": "code",
   "execution_count": null,
   "metadata": {
    "collapsed": true
   },
   "outputs": [],
   "source": []
  }
 ],
 "metadata": {
  "kernelspec": {
   "display_name": "Python 2",
   "language": "python",
   "name": "python2"
  },
  "language_info": {
   "codemirror_mode": {
    "name": "ipython",
    "version": 2
   },
   "file_extension": ".py",
   "mimetype": "text/x-python",
   "name": "python",
   "nbconvert_exporter": "python",
   "pygments_lexer": "ipython2",
   "version": "2.7.11"
  }
 },
 "nbformat": 4,
 "nbformat_minor": 0
}
